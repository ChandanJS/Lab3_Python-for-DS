{
 "cells": [
  {
   "cell_type": "code",
   "execution_count": null,
   "id": "0eb82672-f5d8-48e9-ba6d-cafcfe508e0c",
   "metadata": {
    "tags": []
   },
   "outputs": [],
   "source": [
    "##Q1\n",
    "import pandas as pd\n",
    "import numpy as np\n",
    "\n",
    "import seaborn as sns\n",
    "import matplotlib.pyplot as plt \n",
    "%matplotlib inline\n",
    "from sklearn.tree import DecisionTreeClassifier\n",
    "from sklearn import preprocessing\n",
    "from sklearn.model_selection import train_test_split\n",
    "from sklearn.preprocessing import StandardScaler\n",
    "from sklearn.linear_model import LinearRegression\n",
    "from sklearn.linear_model import LogisticRegression\n",
    "from sklearn.naive_bayes import GaussianNB\n",
    "from sklearn.metrics import accuracy_score\n",
    "from sklearn.dummy import np\n",
    "from sklearn.neighbors import KNeighborsClassifier \n",
    "from sklearn.tree import DecisionTreeClassifier\n",
    "from sklearn.ensemble import RandomForestClassifier\n",
    "from sklearn.ensemble import AdaBoostClassifier\n",
    "from sklearn.ensemble import GradientBoostingClassifier\n",
    "from sklearn.ensemble import StackingClassifier\n",
    "import warnings \n",
    "warnings.filterwarnings('ignore')\n",
    "print('neccesary files imported')"
   ]
  },
  {
   "cell_type": "code",
   "execution_count": null,
   "id": "1ccc6577-1b62-400b-a75f-c9765e91fd8f",
   "metadata": {
    "tags": []
   },
   "outputs": [],
   "source": [
    "##Q2\n",
    "##locally downloaded the CSV file.\n",
    "df=pd.read_csv(r'G:\\______GL_________\\heart_2020_cleaned.csv')\n",
    "df.head(5)\n"
   ]
  },
  {
   "cell_type": "code",
   "execution_count": null,
   "id": "01df2a63-05c3-4890-8e0e-6550d0999d31",
   "metadata": {
    "tags": []
   },
   "outputs": [],
   "source": [
    "##Q3\n",
    "df.info()"
   ]
  },
  {
   "cell_type": "code",
   "execution_count": null,
   "id": "df9dea07-892c-4fd5-afad-bc6b1dbfd868",
   "metadata": {
    "tags": []
   },
   "outputs": [],
   "source": [
    "## Q3\n",
    "df.describe()"
   ]
  },
  {
   "cell_type": "code",
   "execution_count": null,
   "id": "0cc5bf94-6ce3-4e20-948e-1f93628208d6",
   "metadata": {
    "tags": []
   },
   "outputs": [],
   "source": [
    "## Q3\n",
    "df.shape"
   ]
  },
  {
   "cell_type": "code",
   "execution_count": null,
   "id": "5bc02267-3599-48be-af2f-4c396efba533",
   "metadata": {
    "tags": []
   },
   "outputs": [],
   "source": [
    "##q4 solution\n",
    "df.describe(include='O')"
   ]
  },
  {
   "cell_type": "code",
   "execution_count": null,
   "id": "5a952992-829d-485f-bcc3-47fcf9ae3fec",
   "metadata": {
    "tags": []
   },
   "outputs": [],
   "source": [
    "##q5 Solution\n",
    "##missing value\n",
    "mis_val=df.isnull().sum()\n",
    "print('Missing Values')\n",
    "print(mis_val)\n",
    "print('______')\n",
    "##missing value percentage\n",
    "mis_val_percent = 100 * df.isnull().sum() / len(df)\n",
    "print('Missing Values Percentage')\n",
    "print(mis_val_percent)\n"
   ]
  },
  {
   "cell_type": "code",
   "execution_count": null,
   "id": "2db22d31-a9cb-4eae-9d00-596d5b9fc759",
   "metadata": {
    "tags": []
   },
   "outputs": [],
   "source": [
    "##q6 Solution\n",
    "dup_rows=len(df[df.duplicated()])\n",
    "print(dup_rows)\n",
    "print('______________________')\n",
    "drop_dup_rows=df.drop_duplicates(inplace=True)\n",
    "print(drop_dup_rows)\n",
    "df.shape"
   ]
  },
  {
   "cell_type": "code",
   "execution_count": null,
   "id": "079ad733-1440-4d9c-ac1f-31e11bccc36a",
   "metadata": {
    "tags": []
   },
   "outputs": [],
   "source": [
    "##q7 solution\n",
    "##1st solution\n",
    "df['HeartDisease'].value_counts().plot(kind='pie',autopct='%1.0f%%')\n",
    "plt.show()"
   ]
  },
  {
   "cell_type": "code",
   "execution_count": null,
   "id": "c0859aa5-9750-44e5-835e-c06c42b68b2f",
   "metadata": {
    "tags": []
   },
   "outputs": [],
   "source": [
    "##q7 solution\n",
    "##2nd solution\n",
    "con_heartdisease=df.HeartDisease.replace(to_replace=['No','Yes'],value=[0,1])\n",
    "sns.distplot(con_heartdisease)\n"
   ]
  },
  {
   "cell_type": "code",
   "execution_count": null,
   "id": "3fbca362-9e67-4c76-9b03-c10be4851c0c",
   "metadata": {
    "tags": []
   },
   "outputs": [],
   "source": [
    "##q8 solution\n",
    "\n",
    "categorical_features=df.select_dtypes(include=[np.object_])\n",
    "categorical_features.columns\n",
    "\n"
   ]
  },
  {
   "cell_type": "code",
   "execution_count": null,
   "id": "4731fce6-a759-49bc-9917-d0e30646b38b",
   "metadata": {
    "tags": []
   },
   "outputs": [],
   "source": [
    "i=1\n",
    "plt.figure(figsize=(30,25))\n",
    "for feature in categorical_features:\n",
    "    plt.subplot(6,3,i)\n",
    "    sns.countplot(x=feature,hue='HeartDisease',data=df)\n",
    "    i+=1"
   ]
  },
  {
   "cell_type": "code",
   "execution_count": null,
   "id": "e428f4c8-4b68-458b-9922-1d849c6e1db2",
   "metadata": {
    "tags": []
   },
   "outputs": [],
   "source": [
    "##q9 Solution\n",
    "print(df['Diabetic'].unique())\n",
    "print('___________')\n",
    "df['Diabetic']=df['Diabetic'].replace({'Yes (during pregnancy)':'Yes','No, borderline diabetes':'No'})\n",
    "\n",
    "\n"
   ]
  },
  {
   "cell_type": "code",
   "execution_count": null,
   "id": "491f44f5-bb1c-4f5f-be8e-8ceaaf28d8f7",
   "metadata": {
    "tags": []
   },
   "outputs": [],
   "source": [
    "##q10 solution\n",
    "\n",
    "df['HeartDisease']=df['HeartDisease'].replace({'Yes':1,'No':0})\n",
    "df['HeartDisease'].value_counts()\n",
    "      "
   ]
  },
  {
   "cell_type": "code",
   "execution_count": null,
   "id": "1ec4ebe9-3f43-4275-bab7-5958ece5bb67",
   "metadata": {
    "tags": []
   },
   "outputs": [],
   "source": [
    "df['Diabetic'].value_counts()"
   ]
  },
  {
   "cell_type": "code",
   "execution_count": null,
   "id": "2ef1bea3-06c3-47b7-a5a5-b266bc92a19c",
   "metadata": {
    "tags": []
   },
   "outputs": [],
   "source": [
    "##Q11 solution\n",
    "object_type_variable=[i for i in df[['AgeCategory','Race','GenHealth']] if df.dtypes[i]==object]\n",
    "object_type_variable\n",
    "\n",
    "le=preprocessing.LabelEncoder()\n",
    "\n",
    "def encoder(df):\n",
    "    for i in object_type_variable:\n",
    "        q=le.fit_transform(df[i].astype(str))\n",
    "        df[i]=q\n",
    "        df[i]=df[i].astype(int)\n",
    "encoder(df)\n",
    "    \n"
   ]
  },
  {
   "cell_type": "code",
   "execution_count": null,
   "id": "adb037e4-32df-4e54-a5c6-ff2c759c4664",
   "metadata": {
    "tags": []
   },
   "outputs": [],
   "source": [
    "df=pd.get_dummies(df,drop_first=True)"
   ]
  },
  {
   "cell_type": "code",
   "execution_count": null,
   "id": "9a354f95-a9b6-4e3e-8f7f-5042f3b3cdb5",
   "metadata": {
    "tags": []
   },
   "outputs": [],
   "source": [
    "df.head(2)"
   ]
  },
  {
   "cell_type": "code",
   "execution_count": null,
   "id": "57515307-41d4-48d8-bba5-9c8a270ff7fb",
   "metadata": {
    "tags": []
   },
   "outputs": [],
   "source": [
    "##q11 solution\n",
    "encoder=preprocessing.LabelEncoder() ##AgeCategory\n",
    "df['AgeCategory']=encoder.fit_transform(df['AgeCategory'])\n",
    "df['AgeCategory'].unique()\n",
    "\n",
    "\n"
   ]
  },
  {
   "cell_type": "code",
   "execution_count": null,
   "id": "0a291888-ff6f-40bf-bb7f-65cb18730722",
   "metadata": {
    "tags": []
   },
   "outputs": [],
   "source": [
    "##q11 solution\n",
    "df['Race']=encoder.fit_transform(df['Race']) ##Race\n",
    "df['Race'].unique()\n"
   ]
  },
  {
   "cell_type": "code",
   "execution_count": null,
   "id": "26e65ee7-7ca0-43fc-abb2-cfbc57928ff8",
   "metadata": {
    "tags": []
   },
   "outputs": [],
   "source": [
    "##q11 solution\n",
    "df['GenHealth']=encoder.fit_transform(df['GenHealth']) ##GenHealth\n",
    "df['GenHealth'].unique()"
   ]
  },
  {
   "cell_type": "code",
   "execution_count": null,
   "id": "111582e2-3590-4fef-ad47-879dcb778641",
   "metadata": {
    "tags": []
   },
   "outputs": [],
   "source": [
    "##q12 solution\n",
    "data=pd.read_csv(r'G:\\______GL_________\\heart_2020_cleaned.csv')\n",
    "x=data.drop(['HeartDisease'],axis=1).values\n",
    "y=data['HeartDisease'].values\n",
    "x_train,x_test,y_train,y_test=train_test_split(x,y,random_state=0)\n",
    "\n"
   ]
  },
  {
   "cell_type": "code",
   "execution_count": null,
   "id": "67d94a31-7f42-4aa8-a057-c5034dd11231",
   "metadata": {
    "tags": []
   },
   "outputs": [],
   "source": [
    "##q13 solution\n",
    "data1=pd.read_csv(r'G:\\______GL_________\\heart_2020_cleaned.csv')\n",
    "x=data1.drop(['HeartDisease'],axis=1).values\n",
    "y=data1['HeartDisease'].values\n",
    "x_train,x_test,y_train,y_test=train_test_split(x,y,test_size=0.2)\n",
    "print(x_train.shape,x_test.shape)\n",
    "print(y_train.shape,y_test.shape)"
   ]
  },
  {
   "cell_type": "code",
   "execution_count": null,
   "id": "da376bde-4e22-4c2a-8845-e5be7043cc8c",
   "metadata": {
    "tags": []
   },
   "outputs": [],
   "source": [
    "##q14 solution\n",
    "ss=StandardScaler()\n",
    "x_train.iloc[:,:7]=ss.fit_transform(x_train.iloc[:,:7])\n",
    "x_test.iloc[:,:7]=ss.fit_transform(x_test.iloc[:,:7])\n"
   ]
  },
  {
   "cell_type": "code",
   "execution_count": null,
   "id": "7f7ac5e8-6867-4d8d-b666-7724325b42e5",
   "metadata": {},
   "outputs": [],
   "source": [
    "x_train.head(2)"
   ]
  },
  {
   "cell_type": "code",
   "execution_count": null,
   "id": "cbf14d83-8fb6-4f6b-937e-57c06b6e6b2e",
   "metadata": {},
   "outputs": [],
   "source": [
    "x_test.head(2)"
   ]
  },
  {
   "cell_type": "code",
   "execution_count": null,
   "id": "932cbc83-44f1-42cf-8b0e-eef245e46b1c",
   "metadata": {
    "tags": []
   },
   "outputs": [],
   "source": [
    "##q15 solution\n",
    "def fit_n_print(model, X_train,X_test,y_train,y_test):\n",
    "  model.fit(X_train,y_train)\n",
    "  pred=model.predict(x_test)\n",
    "  accuracy=accuracy_score(y_test,pred)\n",
    "  return accuracy"
   ]
  },
  {
   "cell_type": "code",
   "execution_count": null,
   "id": "0ad2fb67-bc17-48fb-a83c-f7dc8ef235a5",
   "metadata": {
    "tags": []
   },
   "outputs": [],
   "source": [
    "##q16 solution\n",
    "lr=LogisticRegression()\n",
    "nb=GaussianNB()\n",
    "knn=KNeighborsClassifier()\n",
    "dt=DecisionTreeClassifier()\n",
    "rf=RandomForestClassifier()\n",
    "adb=AdaBoostClassifier()\n",
    "gb=GradientBoostingClassifier()\n",
    "\n",
    "estimators=[('rf',rf),('knn',knn),('gb',gb),('adb',adb)]\n",
    "sc=StackingClassifier(estimators=estimators,final_estimator=rf)"
   ]
  },
  {
   "cell_type": "code",
   "execution_count": null,
   "id": "831000e1-1519-4072-8d90-8837b062e922",
   "metadata": {
    "tags": []
   },
   "outputs": [],
   "source": [
    "result=pd.DataFrame(columns=['Accuracy'])\n",
    "for mode, model_name in zip([lr,nb,knn,dt,rf,adb,gb,sc],['Logistic Regression',\n",
    "                                                         'Naive Bayes','KNN',\n",
    "                                                         'Decision Tree',\n",
    "                                                         'Random Forest',\n",
    "                                                         'Ada Boost',\n",
    "                                                         'Gradient Boost',\n",
    "                                                         'Stacking']):\n",
    "    result.loc[model_name]=fit_n_print(model,x_train,x_test,y_train,y_test)\n",
    "    \n",
    "    "
   ]
  },
  {
   "cell_type": "code",
   "execution_count": null,
   "id": "9a01aff6-0407-4791-b78f-8876c69c65bb",
   "metadata": {
    "tags": []
   },
   "outputs": [],
   "source": [
    "result"
   ]
  },
  {
   "cell_type": "code",
   "execution_count": null,
   "id": "7f3382a5-bd66-4d97-a6f0-9abf8fb3faa8",
   "metadata": {},
   "outputs": [],
   "source": []
  }
 ],
 "metadata": {
  "kernelspec": {
   "display_name": "Python 3 (ipykernel)",
   "language": "python",
   "name": "python3"
  },
  "language_info": {
   "codemirror_mode": {
    "name": "ipython",
    "version": 3
   },
   "file_extension": ".py",
   "mimetype": "text/x-python",
   "name": "python",
   "nbconvert_exporter": "python",
   "pygments_lexer": "ipython3",
   "version": "3.11.7"
  }
 },
 "nbformat": 4,
 "nbformat_minor": 5
}
